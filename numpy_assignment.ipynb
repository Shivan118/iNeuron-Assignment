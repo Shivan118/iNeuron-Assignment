{
 "cells": [
  {
   "cell_type": "markdown",
   "metadata": {
    "colab_type": "text",
    "id": "yCkR_Uuu1XgQ"
   },
   "source": [
    "# Assignment 6"
   ]
  },
  {
   "cell_type": "markdown",
   "metadata": {
    "colab_type": "text",
    "id": "RoYVL1sE1em-"
   },
   "source": [
    "### Write a function so that the columns of the output matrix are powers of the input vector.\n",
    "### The order of the powers is determined by the increasing boolean argument. Specifically, when increasing is False, the i-th output column is the input vector raised element-wise to the power of N - i - 1.\n",
    "\n",
    "**HINT: Such a matrix with a geometric progression in each row is named for Alexandre-Theophile Vandermonde.**"
   ]
  },
  {
   "cell_type": "code",
   "execution_count": 1,
   "metadata": {
    "colab": {},
    "colab_type": "code",
    "id": "fPwfKgaw8nho"
   },
   "outputs": [],
   "source": [
    "import numpy as np"
   ]
  },
  {
   "cell_type": "code",
   "execution_count": 3,
   "metadata": {
    "colab": {},
    "colab_type": "code",
    "id": "TNmGS6wS1GzT"
   },
   "outputs": [],
   "source": [
    "def alexTheoVander(iVector, n, increasing = False):\n",
    "  if increasing:\n",
    "    oMatrix = np.matrix([x**i for x in iVector for i in range(n)]).reshape(iVector.size, n)\n",
    "  else:\n",
    "    oMatrix = np.matrix([x**(n-i-1) for x in iVector for i in range(n)]).reshape(iVector.size, n)\n",
    "  return oMatrix"
   ]
  },
  {
   "cell_type": "code",
   "execution_count": 4,
   "metadata": {
    "colab": {},
    "colab_type": "code",
    "id": "b0J4tOWB_0Ba"
   },
   "outputs": [],
   "source": [
    "iVector = np.array([1, 3, 5, 7, 9])\n",
    "n = 5"
   ]
  },
  {
   "cell_type": "code",
   "execution_count": 5,
   "metadata": {
    "colab": {
     "base_uri": "https://localhost:8080/",
     "height": 109
    },
    "colab_type": "code",
    "id": "mLuCu5RKA1XO",
    "outputId": "0812f95e-0b1a-4fc4-da77-972bb59fde25"
   },
   "outputs": [
    {
     "data": {
      "text/plain": [
       "matrix([[   1,    1,    1,    1,    1],\n",
       "        [   1,    3,    9,   27,   81],\n",
       "        [   1,    5,   25,  125,  625],\n",
       "        [   1,    7,   49,  343, 2401],\n",
       "        [   1,    9,   81,  729, 6561]])"
      ]
     },
     "execution_count": 5,
     "metadata": {},
     "output_type": "execute_result"
    }
   ],
   "source": [
    "oMtarix_asc = alexTheoVander(iVector, n, True)\n",
    "oMtarix_asc"
   ]
  },
  {
   "cell_type": "code",
   "execution_count": 5,
   "metadata": {
    "colab": {
     "base_uri": "https://localhost:8080/",
     "height": 109
    },
    "colab_type": "code",
    "id": "KvDjT30iA2yO",
    "outputId": "8033acf3-fdce-48bf-c6eb-0740dafded0d"
   },
   "outputs": [
    {
     "data": {
      "text/plain": [
       "matrix([[   1,    1,    1,    1,    1],\n",
       "        [  81,   27,    9,    3,    1],\n",
       "        [ 625,  125,   25,    5,    1],\n",
       "        [2401,  343,   49,    7,    1],\n",
       "        [6561,  729,   81,    9,    1]])"
      ]
     },
     "execution_count": 5,
     "metadata": {
      "tags": []
     },
     "output_type": "execute_result"
    }
   ],
   "source": [
    "oMtarix_desc = alexTheoVander(iVector, n, False)\n",
    "oMtarix_desc"
   ]
  },
  {
   "cell_type": "markdown",
   "metadata": {
    "colab_type": "text",
    "id": "rvXcwej9Bv_O"
   },
   "source": [
    "### Write a function to find moving average in an array over a window:\n",
    "Test it over [3, 5, 7, 2, 8, 10, 11, 65, 72, 81, 99, 100, 150] and window of 3."
   ]
  },
  {
   "cell_type": "code",
   "execution_count": 6,
   "metadata": {
    "colab": {},
    "colab_type": "code",
    "id": "9Ox7Dqu8Pe8h"
   },
   "outputs": [],
   "source": [
    "def movingAverage(inputValue, k):\n",
    "  z = 1\n",
    "  output = np.convolve(inputValue, np.ones(k), 'valid') / k\n",
    "  for i in output:\n",
    "    print(\"y{0} = {1:.2f}\".format(z, i))\n",
    "    z += 1"
   ]
  },
  {
   "cell_type": "code",
   "execution_count": 7,
   "metadata": {
    "colab": {
     "base_uri": "https://localhost:8080/",
     "height": 219
    },
    "colab_type": "code",
    "id": "65Nhe55iqA_x",
    "outputId": "45382c1d-1ef4-4ed2-d293-bd746bbbc967"
   },
   "outputs": [
    {
     "name": "stdout",
     "output_type": "stream",
     "text": [
      "y1 = 5.00\n",
      "y2 = 4.67\n",
      "y3 = 5.67\n",
      "y4 = 6.67\n",
      "y5 = 9.67\n",
      "y6 = 28.67\n",
      "y7 = 49.33\n",
      "y8 = 72.67\n",
      "y9 = 84.00\n",
      "y10 = 93.33\n",
      "y11 = 116.33\n"
     ]
    }
   ],
   "source": [
    "inputValue = np.array([3, 5, 7, 2, 8, 10, 11, 65, 72, 81, 99, 100, 150])\n",
    "k = 3\n",
    "movingAverage(inputValue, k)"
   ]
  },
  {
   "cell_type": "code",
   "execution_count": null,
   "metadata": {},
   "outputs": [],
   "source": []
  }
 ],
 "metadata": {
  "colab": {
   "name": "numpy-assignment.ipynb",
   "provenance": []
  },
  "kernelspec": {
   "display_name": "Python 3",
   "language": "python",
   "name": "python3"
  },
  "language_info": {
   "codemirror_mode": {
    "name": "ipython",
    "version": 3
   },
   "file_extension": ".py",
   "mimetype": "text/x-python",
   "name": "python",
   "nbconvert_exporter": "python",
   "pygments_lexer": "ipython3",
   "version": "3.7.6"
  }
 },
 "nbformat": 4,
 "nbformat_minor": 1
}
